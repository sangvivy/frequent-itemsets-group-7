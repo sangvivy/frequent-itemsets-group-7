{
 "cells": [
  {
   "cell_type": "code",
   "execution_count": 1,
   "id": "12d093d8",
   "metadata": {},
   "outputs": [],
   "source": [
    "# [Student: Hans] 1. Import required libraries and simulate supermarket transactions\n",
    "import pandas as pd                       # For working with DataFrames (tables)\n",
    "import random                             # For generating random selections\n",
    "from mlxtend.frequent_patterns import apriori, association_rules  # For frequent itemset mining\n",
    "from mlxtend.preprocessing import TransactionEncoder              # For converting transactions to binary matrix\n",
    "from IPython.display import display        # For better DataFrame display in notebooks\n",
    "\n",
    "# Define a pool of 30 unique supermarket items\n",
    "item_pool = [\n",
    "    \"Milk\", \"Bread\", \"Eggs\", \"Butter\", \"Cheese\", \"Juice\", \"Soda\", \"Chips\", \"Chocolate\", \"Cookies\",\n",
    "    \"Cereal\", \"Yogurt\", \"Coffee\", \"Tea\", \"Sugar\", \"Salt\", \"Rice\", \"Pasta\", \"Tomatoes\", \"Onions\",\n",
    "    \"Apples\", \"Bananas\", \"Oranges\", \"Chicken\", \"Beef\", \"Fish\", \"Toilet Paper\", \"Soap\", \"Shampoo\", \"Detergent\"\n",
    "]\n",
    "\n",
    "# Simulate 3000 transactions (each transaction has between 2 to 7 randomly selected items)\n",
    "random.seed(42)  # For reproducibility — ensures the same random results each time you run it\n",
    "transactions = []\n",
    "for _ in range(3000):  # Loop 3000 times for 3000 transactions\n",
    "    n_items = random.randint(2, 7)  # Random number of items between 2 and 7\n",
    "    transaction = random.sample(item_pool, n_items)  # Randomly select items\n",
    "    transactions.append(transaction)  # Add transaction to the list\n",
    "\n"
   ]
  },
  {
   "cell_type": "code",
   "execution_count": 2,
   "id": "92719ac8",
   "metadata": {},
   "outputs": [
    {
     "name": "stdout",
     "output_type": "stream",
     "text": [
      "Sample Transactions:\n",
      "                                         transaction\n",
      "0  Butter, Milk, Chicken, Chocolate, Chips, Fish,...\n",
      "1  Butter, Bananas, Chicken, Pasta, Eggs, Tomatoe...\n",
      "2                                         Milk, Eggs\n",
      "3                                Chips, Rice, Onions\n",
      "4                                        Pasta, Soda\n"
     ]
    }
   ],
   "source": [
    "# [Student: Vivian] Convert list of transactions to DataFrame using one-hot encoding\n",
    "te = TransactionEncoder()                                # Create encoder object\n",
    "te_ary = te.fit(transactions).transform(transactions)    # Transform list of transactions to binary array\n",
    "df = pd.DataFrame(te_ary, columns=te.columns_)           # Create a DataFrame from binary array\n",
    "\n",
    "# Save raw simulated transactions to CSV file for transparency\n",
    "df_raw = pd.DataFrame({'transaction': [', '.join(t) for t in transactions]})  # Join each transaction into a single string\n",
    "df_raw.to_csv('supermarket_transactions.csv', index=False)  # Save to CSV\n",
    "\n",
    "print(\"Sample Transactions:\")\n",
    "print(df_raw.head())  # Show first few transactions as text (not encoded)"
   ]
  },
  {
   "cell_type": "code",
   "execution_count": 3,
   "id": "e0cb8bf1",
   "metadata": {},
   "outputs": [
    {
     "name": "stdout",
     "output_type": "stream",
     "text": [
      "Top 10 Frequent Itemsets:\n",
      "     support   itemsets  length\n",
      "1   0.170000  (Bananas)       1\n",
      "4   0.162333   (Butter)       1\n",
      "21  0.161000     (Salt)       1\n",
      "0   0.159333   (Apples)       1\n",
      "6   0.159000   (Cheese)       1\n",
      "18  0.156667  (Oranges)       1\n",
      "26  0.154333      (Tea)       1\n",
      "7   0.154000  (Chicken)       1\n",
      "25  0.154000    (Sugar)       1\n",
      "10  0.152667   (Coffee)       1\n"
     ]
    }
   ],
   "source": [
    "# [Student: Rosamistica] Generate frequent itemsets with min_support = 0.05\n",
    "frequent_itemsets = apriori(df, min_support=0.05, use_colnames=True)  # Run Apriori algorithm on the encoded DataFrame\n",
    "frequent_itemsets['length'] = frequent_itemsets['itemsets'].apply(lambda x: len(x))  # Add column for number of items in each itemset\n",
    "frequent_itemsets.sort_values(by='support', ascending=False, inplace=True)  # Sort by support (most common first)\n",
    "\n",
    "# Save frequent itemsets to CSV\n",
    "frequent_itemsets.to_csv('frequent_itemsets.csv', index=False)\n",
    "\n",
    "print(\"Top 10 Frequent Itemsets:\")\n",
    "print(frequent_itemsets.head(10))  # Display the top 10 most frequent itemsets"
   ]
  },
  {
   "cell_type": "code",
   "execution_count": 4,
   "id": "b1262326",
   "metadata": {},
   "outputs": [
    {
     "name": "stdout",
     "output_type": "stream",
     "text": [
      "\n",
      "Closed Frequent Itemsets:\n",
      "     support   itemsets  length  is_closed\n",
      "1   0.170000  (Bananas)       1       True\n",
      "4   0.162333   (Butter)       1       True\n",
      "21  0.161000     (Salt)       1       True\n",
      "0   0.159333   (Apples)       1       True\n",
      "6   0.159000   (Cheese)       1       True\n"
     ]
    }
   ],
   "source": [
    "# [Student: Faith] Identify closed frequent itemsets\n",
    "# Closed itemset: No superset has the same support value\n",
    "def is_closed(itemset, support):\n",
    "    for _, row in frequent_itemsets.iterrows():\n",
    "        if itemset < row['itemsets'] and support == row['support']:  # Check if a larger set has the same support\n",
    "            return False\n",
    "    return True\n",
    "\n",
    "frequent_itemsets['is_closed'] = frequent_itemsets.apply(\n",
    "    lambda row: is_closed(row['itemsets'], row['support']), axis=1\n",
    ")\n",
    "closed_itemsets = frequent_itemsets[frequent_itemsets['is_closed'] == True]  # Filter only closed itemsets\n",
    "\n",
    "# Save closed itemsets to CSV\n",
    "closed_itemsets.to_csv('closed_itemsets.csv', index=False)\n",
    "\n",
    "print(\"\\nClosed Frequent Itemsets:\")\n",
    "print(closed_itemsets.head())  # Display some closed itemsets"
   ]
  },
  {
   "cell_type": "code",
   "execution_count": 5,
   "id": "54c64642",
   "metadata": {},
   "outputs": [
    {
     "name": "stdout",
     "output_type": "stream",
     "text": [
      "\n",
      "Maximal Frequent Itemsets:\n",
      "     support   itemsets  length  is_closed  is_maximal\n",
      "1   0.170000  (Bananas)       1       True        True\n",
      "4   0.162333   (Butter)       1       True        True\n",
      "21  0.161000     (Salt)       1       True        True\n",
      "0   0.159333   (Apples)       1       True        True\n",
      "6   0.159000   (Cheese)       1       True        True\n",
      "18  0.156667  (Oranges)       1       True        True\n",
      "26  0.154333      (Tea)       1       True        True\n",
      "7   0.154000  (Chicken)       1       True        True\n",
      "25  0.154000    (Sugar)       1       True        True\n",
      "10  0.152667   (Coffee)       1       True        True\n"
     ]
    }
   ],
   "source": [
    "# [Student: Innocent] Identify maximal frequent itemsets\n",
    "# Maximal itemset: No superset is frequent\n",
    "def is_maximal(itemset):\n",
    "    for _, row in frequent_itemsets.iterrows():\n",
    "        if itemset < row['itemsets']:  # If there is a superset, it's not maximal\n",
    "            return False\n",
    "    return True\n",
    "\n",
    "frequent_itemsets['is_maximal'] = frequent_itemsets['itemsets'].apply(is_maximal)\n",
    "maximal_itemsets = frequent_itemsets[frequent_itemsets['is_maximal'] == True]  # Filter only maximal itemsets\n",
    "\n",
    "# Save maximal itemsets to CSV\n",
    "maximal_itemsets.to_csv('maximal_itemsets.csv', index=False)\n",
    "\n",
    "print(\"\\nMaximal Frequent Itemsets:\")\n",
    "print(maximal_itemsets.head(10))  # Show top maximal itemsets"
   ]
  }
 ],
 "metadata": {
  "kernelspec": {
   "display_name": "Python 3",
   "language": "python",
   "name": "python3"
  },
  "language_info": {
   "codemirror_mode": {
    "name": "ipython",
    "version": 3
   },
   "file_extension": ".py",
   "mimetype": "text/x-python",
   "name": "python",
   "nbconvert_exporter": "python",
   "pygments_lexer": "ipython3",
   "version": "3.12.10"
  }
 },
 "nbformat": 4,
 "nbformat_minor": 5
}
